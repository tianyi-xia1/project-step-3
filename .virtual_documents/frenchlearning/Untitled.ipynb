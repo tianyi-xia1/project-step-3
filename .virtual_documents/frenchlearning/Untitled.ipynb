import quiz.main



main.mian()



