from quiz import main


main.main()



