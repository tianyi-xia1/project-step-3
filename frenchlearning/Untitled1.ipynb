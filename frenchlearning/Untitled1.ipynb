{
 "cells": [
  {
   "cell_type": "markdown",
   "id": "55278946-7c3d-422c-ab2b-4b44b102f5da",
   "metadata": {},
   "source": [
    "# French Learning Program\n",
    "\n",
    "The **French Learning Program** is an interactive tool designed to help users memorize and test their knowledge of French-English word pairs. It supports multiple difficulty levels and provides features like hints, progress tracking, and nearly-correct answer recognition.\n",
    "\n",
    "---\n",
    "\n",
    "## Features\n",
    "\n",
    "### Memorization and Quizzing\n",
    "- **Memorization**: Displays French-English word pairs for users to study.\n",
    "- **Interactive Quiz**: Tests users on their ability to recall English translations of French words.\n",
    "\n",
    "### Difficulty Levels\n",
    "- Supports three difficulty levels:\n",
    "  - Easy\n",
    "  - Medium\n",
    "  - Hard\n",
    "\n",
    "### Input Handling\n",
    "- Provides hints during the quiz.\n",
    "- Handles invalid user inputs gracefully (e.g., non-alphabetic characters or empty inputs).\n",
    "\n",
    "### Nearly-Correct Answers\n",
    "- Recognizes and accepts answers that are off by one character (e.g., \"dgo\" for \"dog\").\n",
    "\n",
    "### Progress Tracking\n",
    "- Tracks words answered correctly on the first attempt.\n",
    "- Tracks words failed on the first attempt.\n",
    "- Displays progress at the end of the session.\n",
    "\n",
    "### Error Handling\n",
    "- Includes robust error handling for invalid inputs, unexpected issues, and program interruptions.\n",
    "\n",
    "---\n",
    "\n",
    "## Installation\n",
    "\n",
    "### Prerequisites\n",
    "- Python 3.6 or later\n",
    "- `setuptools` and `wheel` for packaging\n",
    "- `difflib` (built into Python)\n"
   ]
  },
  {
   "cell_type": "code",
   "execution_count": null,
   "id": "7988c947-8a37-4375-b6b1-080314ef4c83",
   "metadata": {},
   "outputs": [],
   "source": []
  }
 ],
 "metadata": {
  "kernelspec": {
   "display_name": "Python 3 (ipykernel)",
   "language": "python",
   "name": "python3"
  },
  "language_info": {
   "codemirror_mode": {
    "name": "ipython",
    "version": 3
   },
   "file_extension": ".py",
   "mimetype": "text/x-python",
   "name": "python",
   "nbconvert_exporter": "python",
   "pygments_lexer": "ipython3",
   "version": "3.12.2"
  }
 },
 "nbformat": 4,
 "nbformat_minor": 5
}
