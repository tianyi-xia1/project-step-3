{
 "cells": [
  {
   "cell_type": "code",
   "execution_count": null,
   "id": "65106327-3e89-4521-b67b-87bab1d9e259",
   "metadata": {},
   "outputs": [
    {
     "name": "stdout",
     "output_type": "stream",
     "text": [
      "Welcome to the French Learning Program!\n",
      "\n",
      "Select Difficulty Level:\n",
      "1. Easy\n",
      "2. Medium\n",
      "3. Hard\n",
      "Type 'exit' to finish and see your results.\n",
      "\n"
     ]
    }
   ],
   "source": [
    "from quiz import main\n",
    "main.main()"
   ]
  },
  {
   "cell_type": "code",
   "execution_count": null,
   "id": "9af9d85e-52ad-4c24-a3d4-daa664bf8ec9",
   "metadata": {},
   "outputs": [],
   "source": []
  }
 ],
 "metadata": {
  "kernelspec": {
   "display_name": "Python 3 (ipykernel)",
   "language": "python",
   "name": "python3"
  },
  "language_info": {
   "codemirror_mode": {
    "name": "ipython",
    "version": 3
   },
   "file_extension": ".py",
   "mimetype": "text/x-python",
   "name": "python",
   "nbconvert_exporter": "python",
   "pygments_lexer": "ipython3",
   "version": "3.12.3"
  }
 },
 "nbformat": 4,
 "nbformat_minor": 5
}
