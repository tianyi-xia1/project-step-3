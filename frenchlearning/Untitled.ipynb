{
 "cells": [
  {
   "cell_type": "code",
   "execution_count": null,
   "id": "f3e53530-f53d-4b7b-a55c-e7a5f4d81dd5",
   "metadata": {},
   "outputs": [],
   "source": [
    "from setuptools import setup, find_packages\n",
    "\n",
    "setup(\n",
    "    name=\"frenchlearning\",  \n",
    "    version=\"0.1.0\", \n",
    "    author=\"Tianyi Xia, Litao Zheng\",\n",
    "    author_email=\"kevinhsia6@gmail.com, zhenglitao0305@gmail.com\",\n",
    "    description=\"A french vocab practicing package which allows user to enter the english translation of the fernch word generated in order to memorize\",\n",
    "    long_description=open(\"README.md\").read(),\n",
    "    long_description_content_type=\"text/markdown\",\n",
    "    url=\"https://github.com/MDS-2024-Labs/project-step-3-litaozheng.git\", \n",
    "    packages=find_packages(),  \n",
    "    classifiers=[\n",
    "        \"Programming Language :: Python :: 3\",\n",
    "        \"License :: OSI Approved :: MIT License\",\n",
    "        \"Operating System :: OS Independent\",\n",
    "    ],\n",
    "    python_requires=\">=3.6\",\n",
    "    install_requires=[\n",
    "    ],\n",
    ")\n"
   ]
  },
  {
   "cell_type": "code",
   "execution_count": null,
   "id": "7f1efe4b-f398-42ae-aa0d-c875405b13ef",
   "metadata": {},
   "outputs": [],
   "source": []
  }
 ],
 "metadata": {
  "kernelspec": {
   "display_name": "Python 3 (ipykernel)",
   "language": "python",
   "name": "python3"
  },
  "language_info": {
   "codemirror_mode": {
    "name": "ipython",
    "version": 3
   },
   "file_extension": ".py",
   "mimetype": "text/x-python",
   "name": "python",
   "nbconvert_exporter": "python",
   "pygments_lexer": "ipython3",
   "version": "3.12.2"
  }
 },
 "nbformat": 4,
 "nbformat_minor": 5
}
