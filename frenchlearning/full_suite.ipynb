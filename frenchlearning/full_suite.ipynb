{
 "cells": [
  {
   "cell_type": "code",
   "execution_count": null,
   "id": "21764f60-9e0e-435a-9e3e-653c282eb6ed",
   "metadata": {},
   "outputs": [
    {
     "name": "stderr",
     "output_type": "stream",
     "text": [
      "test_easywordpair_difficulty (test_classes.TestClasses.test_easywordpair_difficulty) ... C:\\Users\\zheng\\miniconda3\\Lib\\site-packages\\jupyter_client\\session.py:203: DeprecationWarning: datetime.datetime.utcnow() is deprecated and scheduled for removal in a future version. Use timezone-aware objects to represent datetimes in UTC: datetime.datetime.now(datetime.UTC).\n",
      "  return datetime.utcnow().replace(tzinfo=utc)\n",
      "ok\n",
      "test_wordpair_equality (test_classes.TestClasses.test_wordpair_equality) ... ok\n",
      "test_initialize_word_pairs_content (test_initializer.TestInitializer.test_initialize_word_pairs_content) ... ok\n",
      "test_initialize_word_pairs_length (test_initializer.TestInitializer.test_initialize_word_pairs_length) ... ok\n",
      "test_update_status_correct (test_manager.TestManager.test_update_status_correct) ... ok\n",
      "test_update_status_incorrect (test_manager.TestManager.test_update_status_incorrect) ... ok\n",
      "test_display_word_pairs (test_quizzing.TestQuizzing.test_display_word_pairs) ... "
     ]
    },
    {
     "name": "stdout",
     "output_type": "stream",
     "text": [
      "\n",
      "Please memorize the following French-English word pairs:\n",
      "\n",
      "chat - cat\n",
      "chien - dog\n",
      "\n",
      "When you are done memorizing, type 'start' to begin the quiz, or 'exit' to finish and see your results.\n",
      "\n"
     ]
    }
   ],
   "source": [
    "import unittest\n",
    "from test_manager import TestManager\n",
    "from test_quizzing import TestQuizzing\n",
    "from test_classes import TestClasses\n",
    "from test_initializer import TestInitializer\n",
    "\n",
    "def my_suite():\n",
    "    suite = unittest.TestSuite()\n",
    "    suite.addTest(unittest.makeSuite(TestClasses))\n",
    "    suite.addTest(unittest.makeSuite(TestInitializer))\n",
    "    return suite\n",
    "\n",
    "def suite():\n",
    "    suite = unittest.TestSuite()\n",
    "    suite.addTest(unittest.makeSuite(TestManager))\n",
    "    suite.addTest(unittest.makeSuite(TestQuizzing))\n",
    "    return suite\n",
    "\n",
    "if __name__ == '__main__':\n",
    "    unittest.main(argv=[''], verbosity=2, exit=False)"
   ]
  },
  {
   "cell_type": "code",
   "execution_count": 4,
   "id": "7542622b-ae7a-4630-9f86-2928cd365145",
   "metadata": {},
   "outputs": [
    {
     "ename": "AttributeError",
     "evalue": "module 'frenchlearning' has no attribute 'quiz'",
     "output_type": "error",
     "traceback": [
      "\u001b[1;31m---------------------------------------------------------------------------\u001b[0m",
      "\u001b[1;31mAttributeError\u001b[0m                            Traceback (most recent call last)",
      "Cell \u001b[1;32mIn[4], line 1\u001b[0m\n\u001b[1;32m----> 1\u001b[0m \u001b[43mfrenchlearning\u001b[49m\u001b[38;5;241;43m.\u001b[39;49m\u001b[43mquiz\u001b[49m\u001b[38;5;241m.\u001b[39mmain\u001b[38;5;241m.\u001b[39mmain()\n",
      "\u001b[1;31mAttributeError\u001b[0m: module 'frenchlearning' has no attribute 'quiz'"
     ]
    }
   ],
   "source": [
    "frenchlearning.quiz.main.main()"
   ]
  },
  {
   "cell_type": "code",
   "execution_count": 3,
   "id": "acd59aa9-4946-494b-bacc-994e4c1b851f",
   "metadata": {},
   "outputs": [],
   "source": [
    "import frenchlearning"
   ]
  },
  {
   "cell_type": "code",
   "execution_count": null,
   "id": "08c31330-916f-41e9-84d3-24d538c4091a",
   "metadata": {},
   "outputs": [],
   "source": []
  }
 ],
 "metadata": {
  "kernelspec": {
   "display_name": "Python 3 (ipykernel)",
   "language": "python",
   "name": "python3"
  },
  "language_info": {
   "codemirror_mode": {
    "name": "ipython",
    "version": 3
   },
   "file_extension": ".py",
   "mimetype": "text/x-python",
   "name": "python",
   "nbconvert_exporter": "python",
   "pygments_lexer": "ipython3",
   "version": "3.12.3"
  }
 },
 "nbformat": 4,
 "nbformat_minor": 5
}
